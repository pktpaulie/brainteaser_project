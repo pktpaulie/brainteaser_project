{
 "cells": [
  {
   "cell_type": "code",
   "execution_count": 1,
   "id": "04a82503",
   "metadata": {},
   "outputs": [],
   "source": [
    "#All required imports\n",
    "import pandas as pd\n",
    "import numpy as np\n",
    "from datasets import Dataset, DatasetDict\n",
    "from sklearn.model_selection import train_test_split\n",
    "from transformers import AutoTokenizer"
   ]
  },
  {
   "cell_type": "code",
   "execution_count": 5,
   "id": "5b2702ff",
   "metadata": {},
   "outputs": [],
   "source": [
    "train_file =  r\"C:\\Users\\pktpa\\OneDrive\\Documents\\Masters 2023\\Lecture Notes\\Natural Language Processing\\Project\\brainteaser_project\\SP-train.npy\"      #Path of Train File\n",
    "read_file = np.load(train_file, allow_pickle = True)                  #Read input file\n",
    "\n",
    "df = pd.DataFrame(read_file.tolist())                                 #Convert Numpy to DataFrame\n",
    "df['distractor1'] = df['distractor1'].astype(str)                     #convert distractor1 to string type\n",
    "df['distractor2'] = df['distractor2'].astype(str)                     #convert distractor2 to string type\n",
    "df['distractor(unsure)'] = df['distractor(unsure)'].astype(str)       #convert distractor(unsure) to string type\n",
    "\n",
    "# Get train, test and validation set\n",
    "train1_df, test_df = train_test_split(df, test_size=0.2, random_state= 42)   #Split train to train val split\n",
    "train_df, val_df = train_test_split(train1_df, test_size=0.2, random_state= 42)   #Split train to train val split\n",
    "\n",
    "train_dataset = Dataset.from_pandas(train_df)\n",
    "val_dataset = Dataset.from_pandas(val_df)\n",
    "\n",
    "dataset_dict = DatasetDict({'train': train_dataset, 'validation': val_dataset})"
   ]
  },
  {
   "cell_type": "code",
   "execution_count": 6,
   "id": "34dd8780",
   "metadata": {},
   "outputs": [],
   "source": [
    "#tokenizer = AutoTokenizer.from_pretrained(\"roberta-base\")\n",
    "tokenizer = AutoTokenizer.from_pretrained(\"bert-base-uncased\")"
   ]
  },
  {
   "cell_type": "code",
   "execution_count": 7,
   "id": "9645cd5e",
   "metadata": {},
   "outputs": [
    {
     "data": {
      "application/vnd.jupyter.widget-view+json": {
       "model_id": "",
       "version_major": 2,
       "version_minor": 0
      },
      "text/plain": [
       "Map:   0%|          | 0/324 [00:00<?, ? examples/s]"
      ]
     },
     "metadata": {},
     "output_type": "display_data"
    },
    {
     "data": {
      "application/vnd.jupyter.widget-view+json": {
       "model_id": "",
       "version_major": 2,
       "version_minor": 0
      },
      "text/plain": [
       "Map:   0%|          | 0/81 [00:00<?, ? examples/s]"
      ]
     },
     "metadata": {},
     "output_type": "display_data"
    }
   ],
   "source": [
    "def preprocess_function(examples):\n",
    "    first_sentences = [[context] * 4 for context in examples[\"question\"]]\n",
    "    second_sentences = [context for context in examples[\"choice_list\"]]\n",
    "    \n",
    "    first_sentences = sum(first_sentences,[])\n",
    "    second_sentences = sum(second_sentences,[])\n",
    "    \n",
    "    tokenized_examples = tokenizer(first_sentences, second_sentences, truncation = True)\n",
    "    #tokenized_examples['label'] = examples['label']\n",
    "    return {k: [v[i : i + 4] for i in range(0, len(v), 4)] for k, v in tokenized_examples.items()}\n",
    "\n",
    "tokenized_data = dataset_dict.map(preprocess_function, batched = True, remove_columns=['id', 'question', 'answer', 'distractor1', 'distractor2', 'distractor(unsure)', 'choice_list', 'choice_order', '__index_level_0__'])\n",
    "#tokenized_data = dataset_dict.map(preprocess_function, batched = True) #, remove_columns=['id', 'question', 'distractor1', 'distractor2', 'distractor(unsure)'])"
   ]
  },
  {
   "cell_type": "code",
   "execution_count": 8,
   "id": "4f160394",
   "metadata": {},
   "outputs": [
    {
     "data": {
      "application/vnd.jupyter.widget-view+json": {
       "model_id": "",
       "version_major": 2,
       "version_minor": 0
      },
      "text/plain": [
       "Map:   0%|          | 0/102 [00:00<?, ? examples/s]"
      ]
     },
     "metadata": {},
     "output_type": "display_data"
    }
   ],
   "source": [
    "# Tokenize test set\n",
    "test_dataset = Dataset.from_pandas(test_df)\n",
    "dataset_dict2 = DatasetDict({'test': test_dataset})\n",
    "test_tokenized_data = dataset_dict2.map(preprocess_function, batched = True, remove_columns=['id', 'question', 'answer', 'distractor1', 'distractor2', 'distractor(unsure)', 'choice_list', 'choice_order', '__index_level_0__'])"
   ]
  },
  {
   "cell_type": "code",
   "execution_count": 9,
   "id": "197acaa6",
   "metadata": {},
   "outputs": [],
   "source": [
    "from dataclasses import dataclass\n",
    "from transformers.tokenization_utils_base import PreTrainedTokenizerBase, PaddingStrategy\n",
    "from typing import Optional, Union\n",
    "import torch\n",
    "@dataclass\n",
    "class DataCollatorForMultipleChoice:\n",
    "    tokenizer: PreTrainedTokenizerBase\n",
    "    padding: Union[bool, str, PaddingStrategy] = True\n",
    "    max_length: Optional[int] = None\n",
    "    pad_to_multiple_of: Optional[int] = None\n",
    "    \n",
    "    def __call__(self, features):\n",
    "        label_name = \"label\" if 'label' in features[0].keys() else 'labels'\n",
    "        labels = [feature.pop(label_name) for feature in features]\n",
    "        batch_size = len(features)\n",
    "        num_choices = len(features[0]['input_ids'])\n",
    "        flattened_features = [\n",
    "            [{k: v[i] for k, v in feature.items()} for i in range(num_choices)] for feature in features\n",
    "        ]\n",
    "        flattened_features = sum(flattened_features, [])\n",
    "        \n",
    "        batch = self.tokenizer.pad(\n",
    "            flattened_features,\n",
    "            padding=self.padding,\n",
    "            max_length=self.max_length,\n",
    "            pad_to_multiple_of=self.pad_to_multiple_of,\n",
    "            return_tensors='pt',\n",
    "        )\n",
    "        batch = {k: v.view(batch_size, num_choices, -1) for k, v in batch.items()}\n",
    "        batch['labels'] = torch.tensor(labels, dtype=torch.int64)\n",
    "        return batch"
   ]
  },
  {
   "cell_type": "code",
   "execution_count": 10,
   "id": "f2ea453a",
   "metadata": {},
   "outputs": [
    {
     "name": "stderr",
     "output_type": "stream",
     "text": [
      "Some weights of BertForMultipleChoice were not initialized from the model checkpoint at bert-base-uncased and are newly initialized: ['classifier.weight', 'classifier.bias']\n",
      "You should probably TRAIN this model on a down-stream task to be able to use it for predictions and inference.\n"
     ]
    }
   ],
   "source": [
    "#Bert\n",
    "from transformers import AutoModelForMultipleChoice, TrainingArguments,Trainer\n",
    "model=AutoModelForMultipleChoice.from_pretrained('bert-base-uncased')\n",
    "\n",
    "#Roberta\n",
    "#from transformers import RobertaForMultipleChoice, TrainingArguments,Trainer\n",
    "#model = RobertaForMultipleChoice.from_pretrained(\"roberta-base\")"
   ]
  },
  {
   "cell_type": "code",
   "execution_count": 31,
   "id": "aa32e062",
   "metadata": {},
   "outputs": [],
   "source": [
    "#pip install accelerate -U"
   ]
  },
  {
   "cell_type": "code",
   "execution_count": 55,
   "id": "d83952ed",
   "metadata": {},
   "outputs": [],
   "source": [
    "#!pip install wandb"
   ]
  },
  {
   "cell_type": "code",
   "execution_count": 10,
   "id": "9f764cb1",
   "metadata": {},
   "outputs": [
    {
     "name": "stdout",
     "output_type": "stream",
     "text": [
      "env: WANDB_NOTEBOOK_NAME=\"Bert BrainTeaserrr\"\n"
     ]
    }
   ],
   "source": [
    "%env WANDB_NOTEBOOK_NAME \"Bert BrainTeaserrr\"\n"
   ]
  },
  {
   "cell_type": "code",
   "execution_count": 11,
   "id": "314d6805",
   "metadata": {},
   "outputs": [
    {
     "name": "stderr",
     "output_type": "stream",
     "text": [
      "\u001b[34m\u001b[1mwandb\u001b[0m: Currently logged in as: \u001b[33mpktpaulie\u001b[0m (\u001b[33mbrainteaser\u001b[0m). Use \u001b[1m`wandb login --relogin`\u001b[0m to force relogin\n"
     ]
    },
    {
     "data": {
      "text/plain": [
       "True"
      ]
     },
     "execution_count": 11,
     "metadata": {},
     "output_type": "execute_result"
    }
   ],
   "source": [
    "import wandb\n",
    "wandb.login()"
   ]
  },
  {
   "cell_type": "code",
   "execution_count": 12,
   "id": "1579fc58",
   "metadata": {},
   "outputs": [],
   "source": [
    "training_args=TrainingArguments(output_dir=r\"C:\\Users\\pktpa\\OneDrive\\Desktop\",\n",
    "                               evaluation_strategy='epoch',\n",
    "                               save_strategy='epoch',\n",
    "                               load_best_model_at_end=True,\n",
    "                               learning_rate=2e-5,\n",
    "                               per_device_eval_batch_size=4,\n",
    "                               per_device_train_batch_size=4,\n",
    "                               num_train_epochs=3,\n",
    "                               weight_decay=0.01,\n",
    "                               report_to='none',\n",
    "                               #save_model_every_epoch=False,\n",
    "                               #train_batch_size=128,\n",
    "                               #eval_batch_size=64,\n",
    "                               #best_model_dir=r\" \",\n",
    "                               \n",
    "                               )"
   ]
  },
  {
   "cell_type": "code",
   "execution_count": 27,
   "id": "591f1c97",
   "metadata": {},
   "outputs": [
    {
     "data": {
      "text/html": [
       "Tracking run with wandb version 0.16.0"
      ],
      "text/plain": [
       "<IPython.core.display.HTML object>"
      ]
     },
     "metadata": {},
     "output_type": "display_data"
    },
    {
     "data": {
      "text/html": [
       "Run data is saved locally in <code>C:\\Users\\pktpa\\OneDrive\\Documents\\Masters 2023\\Lecture Notes\\Natural Language Processing\\Project\\brainteaser_project\\wandb\\run-20231113_134107-d4t540e5</code>"
      ],
      "text/plain": [
       "<IPython.core.display.HTML object>"
      ]
     },
     "metadata": {},
     "output_type": "display_data"
    },
    {
     "data": {
      "text/html": [
       "Syncing run <strong><a href='https://wandb.ai/brainteaser/brainteaser/runs/d4t540e5' target=\"_blank\">roberta_test</a></strong> to <a href='https://wandb.ai/brainteaser/brainteaser' target=\"_blank\">Weights & Biases</a> (<a href='https://wandb.me/run' target=\"_blank\">docs</a>)<br/>"
      ],
      "text/plain": [
       "<IPython.core.display.HTML object>"
      ]
     },
     "metadata": {},
     "output_type": "display_data"
    },
    {
     "data": {
      "text/html": [
       " View project at <a href='https://wandb.ai/brainteaser/brainteaser' target=\"_blank\">https://wandb.ai/brainteaser/brainteaser</a>"
      ],
      "text/plain": [
       "<IPython.core.display.HTML object>"
      ]
     },
     "metadata": {},
     "output_type": "display_data"
    },
    {
     "data": {
      "text/html": [
       " View run at <a href='https://wandb.ai/brainteaser/brainteaser/runs/d4t540e5' target=\"_blank\">https://wandb.ai/brainteaser/brainteaser/runs/d4t540e5</a>"
      ],
      "text/plain": [
       "<IPython.core.display.HTML object>"
      ]
     },
     "metadata": {},
     "output_type": "display_data"
    },
    {
     "data": {
      "text/html": [
       "<button onClick=\"this.nextSibling.style.display='block';this.style.display='none';\">Display W&B run</button><iframe src='https://wandb.ai/brainteaser/brainteaser/runs/d4t540e5?jupyter=true' style='border:none;width:100%;height:420px;display:none;'></iframe>"
      ],
      "text/plain": [
       "<wandb.sdk.wandb_run.Run at 0x2d302b3e850>"
      ]
     },
     "execution_count": 27,
     "metadata": {},
     "output_type": "execute_result"
    }
   ],
   "source": [
    "wandb.init(project=\"brainteaser\", name=\"roberta_test\", config=training_args)"
   ]
  },
  {
   "cell_type": "code",
   "execution_count": 13,
   "id": "82244f83",
   "metadata": {},
   "outputs": [],
   "source": [
    "trainer=Trainer(model=model,args=training_args,\n",
    "               train_dataset=tokenized_data['train'],\n",
    "               eval_dataset=tokenized_data['validation'],\n",
    "               tokenizer=tokenizer,\n",
    "               data_collator=DataCollatorForMultipleChoice(tokenizer=tokenizer))"
   ]
  },
  {
   "cell_type": "code",
   "execution_count": 14,
   "id": "2cc1a1c2",
   "metadata": {},
   "outputs": [
    {
     "ename": "Error",
     "evalue": "You must call wandb.init() before wandb.log()",
     "output_type": "error",
     "traceback": [
      "\u001b[1;31m---------------------------------------------------------------------------\u001b[0m",
      "\u001b[1;31mError\u001b[0m                                     Traceback (most recent call last)",
      "Cell \u001b[1;32mIn[14], line 2\u001b[0m\n\u001b[0;32m      1\u001b[0m \u001b[38;5;66;03m# Log training loss and epoch\u001b[39;00m\n\u001b[1;32m----> 2\u001b[0m wandb\u001b[38;5;241m.\u001b[39mlog({\u001b[38;5;124m\"\u001b[39m\u001b[38;5;124mtrain_loss\u001b[39m\u001b[38;5;124m\"\u001b[39m: trainer\u001b[38;5;241m.\u001b[39mstate\u001b[38;5;241m.\u001b[39mglobal_step, \u001b[38;5;124m\"\u001b[39m\u001b[38;5;124mepoch\u001b[39m\u001b[38;5;124m\"\u001b[39m: trainer\u001b[38;5;241m.\u001b[39mstate\u001b[38;5;241m.\u001b[39mepoch})\n",
      "File \u001b[1;32m~\\anaconda3\\Lib\\site-packages\\wandb\\sdk\\lib\\preinit.py:36\u001b[0m, in \u001b[0;36mPreInitCallable.<locals>.preinit_wrapper\u001b[1;34m(*args, **kwargs)\u001b[0m\n\u001b[0;32m     35\u001b[0m \u001b[38;5;28;01mdef\u001b[39;00m \u001b[38;5;21mpreinit_wrapper\u001b[39m(\u001b[38;5;241m*\u001b[39margs: Any, \u001b[38;5;241m*\u001b[39m\u001b[38;5;241m*\u001b[39mkwargs: Any) \u001b[38;5;241m-\u001b[39m\u001b[38;5;241m>\u001b[39m Any:\n\u001b[1;32m---> 36\u001b[0m     \u001b[38;5;28;01mraise\u001b[39;00m wandb\u001b[38;5;241m.\u001b[39mError(\u001b[38;5;124mf\u001b[39m\u001b[38;5;124m\"\u001b[39m\u001b[38;5;124mYou must call wandb.init() before \u001b[39m\u001b[38;5;132;01m{\u001b[39;00mname\u001b[38;5;132;01m}\u001b[39;00m\u001b[38;5;124m()\u001b[39m\u001b[38;5;124m\"\u001b[39m)\n",
      "\u001b[1;31mError\u001b[0m: You must call wandb.init() before wandb.log()"
     ]
    }
   ],
   "source": [
    "# Log training loss and epoch\n",
    "wandb.log({\"train_loss\": trainer.state.global_step, \"epoch\": trainer.state.epoch})"
   ]
  },
  {
   "cell_type": "code",
   "execution_count": 30,
   "id": "d301b0eb",
   "metadata": {},
   "outputs": [
    {
     "data": {
      "text/html": [
       "\n",
       "    <div>\n",
       "      \n",
       "      <progress value='243' max='243' style='width:300px; height:20px; vertical-align: middle;'></progress>\n",
       "      [243/243 23:35, Epoch 3/3]\n",
       "    </div>\n",
       "    <table border=\"1\" class=\"dataframe\">\n",
       "  <thead>\n",
       " <tr style=\"text-align: left;\">\n",
       "      <th>Epoch</th>\n",
       "      <th>Training Loss</th>\n",
       "      <th>Validation Loss</th>\n",
       "    </tr>\n",
       "  </thead>\n",
       "  <tbody>\n",
       "    <tr>\n",
       "      <td>1</td>\n",
       "      <td>No log</td>\n",
       "      <td>0.379004</td>\n",
       "    </tr>\n",
       "    <tr>\n",
       "      <td>2</td>\n",
       "      <td>No log</td>\n",
       "      <td>0.353915</td>\n",
       "    </tr>\n",
       "    <tr>\n",
       "      <td>3</td>\n",
       "      <td>No log</td>\n",
       "      <td>0.350459</td>\n",
       "    </tr>\n",
       "  </tbody>\n",
       "</table><p>"
      ],
      "text/plain": [
       "<IPython.core.display.HTML object>"
      ]
     },
     "metadata": {},
     "output_type": "display_data"
    },
    {
     "data": {
      "text/plain": [
       "TrainOutput(global_step=243, training_loss=0.06820841188783999, metrics={'train_runtime': 1418.1519, 'train_samples_per_second': 0.685, 'train_steps_per_second': 0.171, 'total_flos': 171061761178080.0, 'train_loss': 0.06820841188783999, 'epoch': 3.0})"
      ]
     },
     "execution_count": 30,
     "metadata": {},
     "output_type": "execute_result"
    }
   ],
   "source": [
    "trainer.train()"
   ]
  },
  {
   "cell_type": "code",
   "execution_count": 15,
   "id": "057e8a68",
   "metadata": {},
   "outputs": [],
   "source": [
    "wandb.finish()"
   ]
  },
  {
   "cell_type": "code",
   "execution_count": 32,
   "id": "5e243f77",
   "metadata": {},
   "outputs": [
    {
     "data": {
      "text/html": [],
      "text/plain": [
       "<IPython.core.display.HTML object>"
      ]
     },
     "metadata": {},
     "output_type": "display_data"
    },
    {
     "data": {
      "text/plain": [
       "{'eval_loss': 0.35045933723449707,\n",
       " 'eval_runtime': 25.8485,\n",
       " 'eval_samples_per_second': 3.134,\n",
       " 'eval_steps_per_second': 0.812,\n",
       " 'epoch': 3.0}"
      ]
     },
     "execution_count": 32,
     "metadata": {},
     "output_type": "execute_result"
    }
   ],
   "source": [
    "trainer.evaluate()"
   ]
  },
  {
   "cell_type": "code",
   "execution_count": 38,
   "id": "6f11bc27",
   "metadata": {},
   "outputs": [
    {
     "data": {
      "text/html": [],
      "text/plain": [
       "<IPython.core.display.HTML object>"
      ]
     },
     "metadata": {},
     "output_type": "display_data"
    }
   ],
   "source": [
    "predictions = trainer.predict(test_tokenized_data['test'])"
   ]
  },
  {
   "cell_type": "code",
   "execution_count": 41,
   "id": "9c426447",
   "metadata": {},
   "outputs": [],
   "source": [
    "# Extract logits from the predictions\n",
    "logits = predictions.predictions\n",
    "logits = torch.tensor(logits)\n",
    "# Apply softmax to convert logits to probabilities\n",
    "probs = torch.nn.functional.softmax(logits, dim=-1)\n",
    "\n",
    "# Get predicted labels based on the maximum probability\n",
    "predicted_labels = torch.argmax(probs, dim=-1)"
   ]
  },
  {
   "cell_type": "code",
   "execution_count": 43,
   "id": "cf590aa9",
   "metadata": {},
   "outputs": [],
   "source": [
    "predicted_labels = predicted_labels.numpy()\n"
   ]
  },
  {
   "cell_type": "code",
   "execution_count": 16,
   "id": "08a28889",
   "metadata": {},
   "outputs": [],
   "source": [
    "actual_labels = test_df['label']\n",
    "actual_labels"
   ]
  },
  {
   "cell_type": "code",
   "execution_count": 49,
   "id": "1f63e261",
   "metadata": {},
   "outputs": [
    {
     "name": "stdout",
     "output_type": "stream",
     "text": [
      "Correct Predictions: 95\n",
      "Total Examples: 102\n",
      "Accuracy: 0.9313725490196079\n"
     ]
    }
   ],
   "source": [
    "# Calculate accuracy\n",
    "correct_predictions = (predicted_labels == actual_labels).sum().item()\n",
    "total_examples = len(actual_labels)\n",
    "accuracy = correct_predictions / total_examples\n",
    "\n",
    "print(\"Correct Predictions:\", correct_predictions)\n",
    "print(\"Total Examples:\", total_examples)\n",
    "print(\"Accuracy:\", accuracy)"
   ]
  },
  {
   "cell_type": "code",
   "execution_count": 50,
   "id": "109758dc",
   "metadata": {},
   "outputs": [],
   "source": [
    "test_df['Pred Labels'] = predicted_labels"
   ]
  },
  {
   "cell_type": "code",
   "execution_count": 51,
   "id": "3f4b9131",
   "metadata": {
    "scrolled": true
   },
   "outputs": [],
   "source": [
    "def select_answers(row):\n",
    "    bert_answers = [row['choice_list'][index] for index in predicted_labels]\n",
    "    return bert_answers\n",
    "\n",
    "test_df['Predicted'] = test_df.apply(select_answers, axis=1)"
   ]
  },
  {
   "cell_type": "code",
   "execution_count": 52,
   "id": "331a4c31",
   "metadata": {},
   "outputs": [],
   "source": [
    "output_dir = r\"C:\\Users\\pktpa\\OneDrive\\Desktop\"\n",
    "val_df.to_csv(r\"C:\\Users\\pktpa\\OneDrive\\Desktop\\bert\\bert_predictions.csv\", mode=\"w\", header=True, index=False)"
   ]
  },
  {
   "cell_type": "code",
   "execution_count": 53,
   "id": "25771253",
   "metadata": {},
   "outputs": [],
   "source": [
    "answers = test_df['choice_list']"
   ]
  }
 ],
 "metadata": {
  "kernelspec": {
   "display_name": "Python 3 (ipykernel)",
   "language": "python",
   "name": "python3"
  },
  "language_info": {
   "codemirror_mode": {
    "name": "ipython",
    "version": 3
   },
   "file_extension": ".py",
   "mimetype": "text/x-python",
   "name": "python",
   "nbconvert_exporter": "python",
   "pygments_lexer": "ipython3",
   "version": "3.11.5"
  }
 },
 "nbformat": 4,
 "nbformat_minor": 5
}
